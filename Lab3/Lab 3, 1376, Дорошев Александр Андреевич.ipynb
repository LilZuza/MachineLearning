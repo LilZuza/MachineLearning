{
 "cells": [
  {
   "cell_type": "markdown",
   "id": "07ab2e2c",
   "metadata": {},
   "source": [
    "# Задание 3. Исследование алгоритмов классификации\n",
    "\n",
    "## В качестве исходного датафрема возьмем Ирисы Фишера ))\n",
    "\n",
    "Датасет включает в себя измерения трех видов ирисов (рода растений) — setosa, versicolor и virginica. Для каждого вида было измерено четыре характеристики:\n",
    "\n",
    "Длина чашелистика (sepal length): Длина одного из лепестков цветка, который находится ближе к основанию.\n",
    "Ширина чашелистика (sepal width): Ширина одного из лепестков цветка, который находится ближе к основанию.\n",
    "Длина лепестка (petal length): Длина другого лепестка цветка, который находится дальше от основания.\n",
    "Ширина лепестка (petal width): Ширина другого лепестка цветка, который находится дальше от основания.\n",
    "Все измерения указаны в сантиметрах.\n",
    "\n",
    "Датасет включает в себя 150 наблюдений (**50 для каждого вида ирисов => сбалансированность классов**), что делает его достаточно небольшим для обучения и тестирования алгоритмов машинного обучения.\n",
    "\n",
    "**Загрузим датасет и добавим к нему атрибут метки классов (target)**"
   ]
  },
  {
   "cell_type": "code",
   "execution_count": 30,
   "id": "4dda0e10",
   "metadata": {
    "scrolled": true
   },
   "outputs": [
    {
     "data": {
      "text/html": [
       "<div>\n",
       "<style scoped>\n",
       "    .dataframe tbody tr th:only-of-type {\n",
       "        vertical-align: middle;\n",
       "    }\n",
       "\n",
       "    .dataframe tbody tr th {\n",
       "        vertical-align: top;\n",
       "    }\n",
       "\n",
       "    .dataframe thead th {\n",
       "        text-align: right;\n",
       "    }\n",
       "</style>\n",
       "<table border=\"1\" class=\"dataframe\">\n",
       "  <thead>\n",
       "    <tr style=\"text-align: right;\">\n",
       "      <th></th>\n",
       "      <th>sepal length (cm)</th>\n",
       "      <th>sepal width (cm)</th>\n",
       "      <th>petal length (cm)</th>\n",
       "      <th>petal width (cm)</th>\n",
       "      <th>target</th>\n",
       "    </tr>\n",
       "  </thead>\n",
       "  <tbody>\n",
       "    <tr>\n",
       "      <th>0</th>\n",
       "      <td>5.1</td>\n",
       "      <td>3.5</td>\n",
       "      <td>1.4</td>\n",
       "      <td>0.2</td>\n",
       "      <td>0</td>\n",
       "    </tr>\n",
       "    <tr>\n",
       "      <th>1</th>\n",
       "      <td>4.9</td>\n",
       "      <td>3.0</td>\n",
       "      <td>1.4</td>\n",
       "      <td>0.2</td>\n",
       "      <td>0</td>\n",
       "    </tr>\n",
       "    <tr>\n",
       "      <th>2</th>\n",
       "      <td>4.7</td>\n",
       "      <td>3.2</td>\n",
       "      <td>1.3</td>\n",
       "      <td>0.2</td>\n",
       "      <td>0</td>\n",
       "    </tr>\n",
       "    <tr>\n",
       "      <th>3</th>\n",
       "      <td>4.6</td>\n",
       "      <td>3.1</td>\n",
       "      <td>1.5</td>\n",
       "      <td>0.2</td>\n",
       "      <td>0</td>\n",
       "    </tr>\n",
       "    <tr>\n",
       "      <th>4</th>\n",
       "      <td>5.0</td>\n",
       "      <td>3.6</td>\n",
       "      <td>1.4</td>\n",
       "      <td>0.2</td>\n",
       "      <td>0</td>\n",
       "    </tr>\n",
       "  </tbody>\n",
       "</table>\n",
       "</div>"
      ],
      "text/plain": [
       "   sepal length (cm)  sepal width (cm)  petal length (cm)  petal width (cm)  \\\n",
       "0                5.1               3.5                1.4               0.2   \n",
       "1                4.9               3.0                1.4               0.2   \n",
       "2                4.7               3.2                1.3               0.2   \n",
       "3                4.6               3.1                1.5               0.2   \n",
       "4                5.0               3.6                1.4               0.2   \n",
       "\n",
       "   target  \n",
       "0       0  \n",
       "1       0  \n",
       "2       0  \n",
       "3       0  \n",
       "4       0  "
      ]
     },
     "execution_count": 30,
     "metadata": {},
     "output_type": "execute_result"
    }
   ],
   "source": [
    "import numpy as np\n",
    "import pandas as pd\n",
    "from sklearn.datasets import load_iris\n",
    "\n",
    "import warnings\n",
    "warnings.filterwarnings('ignore')\n",
    "\n",
    "# Загрузка датасета Iris\n",
    "iris = load_iris()\n",
    "\n",
    "# Вывод информации о датасете\n",
    "df = pd.DataFrame(data=iris.data, columns=iris.feature_names)\n",
    "\n",
    "df['target'] = iris.target  # Добавление столбца с метками\n",
    "df.head()"
   ]
  },
  {
   "cell_type": "markdown",
   "id": "1555f13f",
   "metadata": {},
   "source": [
    "**В рамках задачи классификации выберем в качетсве X - измерения длины и ширины лепестков и чашелистиков цветков, а в качестве Y - вид ириса (setosa, versicolor, virginica), который мы пытаемся определить на основе измерений**\n",
    "\n",
    "52"
   ]
  },
  {
   "cell_type": "code",
   "execution_count": 31,
   "id": "f4bbe6c7",
   "metadata": {},
   "outputs": [],
   "source": [
    "X = df.drop('target', axis=1)  \n",
    "Y = df['target'] \n",
    "\n",
    "\n"
   ]
  },
  {
   "cell_type": "markdown",
   "id": "19c8f1a0",
   "metadata": {},
   "source": [
    "## 1. Необходимо оценить и сравнить результаты классификации, используя следующие\n",
    "\n",
    "**алгоритмы классификации:**\n",
    "* kNN\n",
    "* дерево решений\n",
    "\n",
    "**Оценим kNN алгоритм:**"
   ]
  },
  {
   "cell_type": "code",
   "execution_count": 32,
   "id": "6be0f050",
   "metadata": {},
   "outputs": [
    {
     "data": {
      "text/plain": [
       "0.9619047619047618"
      ]
     },
     "execution_count": 32,
     "metadata": {},
     "output_type": "execute_result"
    }
   ],
   "source": [
    "from sklearn.neighbors import KNeighborsClassifier\n",
    "from sklearn.model_selection import train_test_split, cross_val_score\n",
    "\n",
    "X_train, X_valid, Y_train, Y_valid = train_test_split(X, Y, \n",
    "                                                      test_size=0.3, \n",
    "                                                      random_state=13)\n",
    "X_train.shape, X_valid.shape\n",
    "\n",
    "first_knn = KNeighborsClassifier()\n",
    "\n",
    "np.mean(cross_val_score(first_knn, X_train, Y_train, cv=5))"
   ]
  },
  {
   "cell_type": "markdown",
   "id": "352d2db5",
   "metadata": {},
   "source": [
    "Результат теста **0.9619047619047618** представляет собой среднюю точность (accuracy) модели k-ближайших соседей (KNN) на кросс-валидации. Точность - это метрика, измеряющая долю правильных предсказаний модели относительно общего числа наблюдений.\n",
    "\n",
    "Точность **0.9619047619047618** означает, что в среднем модель правильно классифицировала около **96.19%** наблюдений во время кросс-валидации. Высокая точность свидетельствует о том, что модель KNN с текущими параметрами (по умолчанию) довольно хорошо справляется с задачей классификации на обучающих данных.\n",
    "\n",
    "**Оценим оставшийся алгоритм:**"
   ]
  },
  {
   "cell_type": "code",
   "execution_count": 33,
   "id": "363ebc56",
   "metadata": {},
   "outputs": [
    {
     "data": {
      "text/plain": [
       "0.9428571428571428"
      ]
     },
     "execution_count": 33,
     "metadata": {},
     "output_type": "execute_result"
    }
   ],
   "source": [
    "from sklearn.tree import DecisionTreeClassifier\n",
    "\n",
    "first_tree = DecisionTreeClassifier(random_state=13)\n",
    "\n",
    "np.mean(cross_val_score(first_tree, X_train, Y_train, cv=5))"
   ]
  },
  {
   "cell_type": "markdown",
   "id": "5d3ac93c",
   "metadata": {},
   "source": [
    "Это значение указывает на то, что модель решающего дерева (Decision Tree) с параметрами по умолчанию достигла в среднем точности в районе **94.29%** на обучающих данных при использовании кросс-валидации.\n",
    "\n",
    "**Настроим максимальную глубину дерева, чтобы улучшить результат точности**"
   ]
  },
  {
   "cell_type": "code",
   "execution_count": 34,
   "id": "5f096560",
   "metadata": {},
   "outputs": [
    {
     "name": "stdout",
     "output_type": "stream",
     "text": [
      "Лучшая оценка для дерева решений: 0.9523809523809523\n",
      "Лучшие параметры для дерева решений: {'max_depth': 3, 'max_features': 0.5}\n"
     ]
    }
   ],
   "source": [
    "from sklearn.model_selection import GridSearchCV\n",
    "\n",
    "tree_params = {'max_depth': np.arange(1, 11), 'max_features': [0.5, 0.7, 1]}\n",
    "tree_grid = GridSearchCV(first_tree, tree_params, cv=5, n_jobs=-1)\n",
    "\n",
    "# Fit the grid search to your data\n",
    "tree_grid.fit(X_train, Y_train)\n",
    "\n",
    "# Access the best estimator and its corresponding score\n",
    "best_tree = tree_grid.best_estimator_\n",
    "best_score = tree_grid.best_score_\n",
    "\n",
    "print(\"Лучшая оценка для дерева решений:\", best_score)\n",
    "print(\"Лучшие параметры для дерева решений:\", tree_grid.best_params_)\n"
   ]
  },
  {
   "cell_type": "markdown",
   "id": "39abd74e",
   "metadata": {},
   "source": [
    "В нашем случае мы получили что модель с наилучшей комбинацией параметров (максимальная глубина равная 3 и максимальное количество признаков равное 0.5) достигла примерно 95.24% точности на обучающих данных."
   ]
  },
  {
   "cell_type": "code",
   "execution_count": 35,
   "id": "857c8024",
   "metadata": {},
   "outputs": [
    {
     "name": "stdout",
     "output_type": "stream",
     "text": [
      "Лучшая оценка для KNN: 0.9619047619047618\n",
      "Лучшие параметры для KNN: {'n_neighbors': 5}\n"
     ]
    }
   ],
   "source": [
    "knn_params = {'n_neighbors': list(range(5, 30, 5)) + list(range(50, 100, 10))}\n",
    "\n",
    "knn_grid = GridSearchCV(first_knn, knn_params, cv=5)\n",
    "\n",
    "# Обучение модели с использованием метода fit\n",
    "knn_grid.fit(X_train, Y_train)\n",
    "\n",
    "# Получение лучшей оценки и лучших параметров\n",
    "best_knn_score = knn_grid.best_score_\n",
    "best_knn_params = knn_grid.best_params_\n",
    "\n",
    "print(\"Лучшая оценка для KNN:\", best_knn_score)\n",
    "print(\"Лучшие параметры для KNN:\", best_knn_params)\n"
   ]
  },
  {
   "cell_type": "markdown",
   "id": "cdb10346",
   "metadata": {},
   "source": [
    "**В данном случае модель k-ближайших соседей (KNN) с наилучшим параметром (k=5) продемонстрировала немного более высокую точность (0.9619) по сравнению с моделью решающего дерева (0.9524) на обучающих данных.**\n",
    "\n",
    "## 2. Сравните полученные результаты с помощью различных метрик оценки качества:\n",
    "* Accuracy\n",
    "* Presicion, Recall, F-measure\n",
    "* ROC\n",
    "\n",
    "### Accuracy:"
   ]
  },
  {
   "cell_type": "code",
   "execution_count": 36,
   "id": "ca71cdfb",
   "metadata": {},
   "outputs": [
    {
     "name": "stdout",
     "output_type": "stream",
     "text": [
      "Точность KNN на валидационных данных: 0.9111111111111111\n",
      "Точность решающего дерева на валидационных данных: 0.8666666666666667\n"
     ]
    }
   ],
   "source": [
    "from sklearn.metrics import accuracy_score\n",
    "\n",
    "# Прогнозы для модели k-ближайших соседей на валидационных данных\n",
    "knn_valid_pred = knn_grid.predict(X_valid)\n",
    "\n",
    "# Прогнозы для модели решающего дерева на валидационных данных\n",
    "tree_valid_pred = tree_grid.predict(X_valid)\n",
    "\n",
    "# Точность для модели k-ближайших соседей на валидационных данных\n",
    "knn_accuracy = accuracy_score(Y_valid, knn_valid_pred)\n",
    "\n",
    "# Точность для модели решающего дерева на валидационных данных\n",
    "tree_accuracy = accuracy_score(Y_valid, tree_valid_pred)\n",
    "\n",
    "print(\"Точность KNN на валидационных данных:\", knn_accuracy)\n",
    "print(\"Точность решающего дерева на валидационных данных:\", tree_accuracy)\n"
   ]
  },
  {
   "cell_type": "markdown",
   "id": "b77196bc",
   "metadata": {},
   "source": [
    "### Presicion:"
   ]
  },
  {
   "cell_type": "code",
   "execution_count": 37,
   "id": "924f8ecf",
   "metadata": {},
   "outputs": [
    {
     "name": "stdout",
     "output_type": "stream",
     "text": [
      "Точность (precision) решающего дерева на валидационных данных: 0.9111111111111111\n",
      "Точность (precision) KNN на валидационных данных: 0.9333333333333333\n"
     ]
    }
   ],
   "source": [
    "from sklearn.metrics import precision_score\n",
    "\n",
    "# Точность для модели решающего дерева на валидационных данных\n",
    "tree_precision = precision_score(Y_valid, tree_valid_pred, average='weighted')\n",
    "\n",
    "# Точность для модели k-ближайших соседей на валидационных данных\n",
    "knn_precision = precision_score(Y_valid, knn_valid_pred, average='weighted')\n",
    "\n",
    "print(\"Точность (precision) решающего дерева на валидационных данных:\", tree_precision)\n",
    "print(\"Точность (precision) KNN на валидационных данных:\", knn_precision)\n"
   ]
  },
  {
   "cell_type": "markdown",
   "id": "8f6082da",
   "metadata": {},
   "source": [
    "### Recall:"
   ]
  },
  {
   "cell_type": "code",
   "execution_count": 38,
   "id": "16d1042b",
   "metadata": {},
   "outputs": [
    {
     "name": "stdout",
     "output_type": "stream",
     "text": [
      "Полнота (recall) решающего дерева на валидационных данных: 0.8666666666666667\n",
      "Полнота (recall) KNN на валидационных данных: 0.9111111111111111\n"
     ]
    }
   ],
   "source": [
    "from sklearn.metrics import recall_score\n",
    "\n",
    "# Полнота для модели решающего дерева на валидационных данных\n",
    "tree_recall = recall_score(Y_valid, tree_valid_pred, average='weighted')\n",
    "\n",
    "# Полнота для модели k-ближайших соседей на валидационных данных\n",
    "knn_recall = recall_score(Y_valid, knn_valid_pred, average='weighted')\n",
    "\n",
    "print(\"Полнота (recall) решающего дерева на валидационных данных:\", tree_recall)\n",
    "print(\"Полнота (recall) KNN на валидационных данных:\", knn_recall)\n"
   ]
  },
  {
   "cell_type": "markdown",
   "id": "01225d8f",
   "metadata": {},
   "source": [
    "### F-measure:"
   ]
  },
  {
   "cell_type": "code",
   "execution_count": 39,
   "id": "8681c913",
   "metadata": {},
   "outputs": [
    {
     "name": "stdout",
     "output_type": "stream",
     "text": [
      "F1-мера для решающего дерева на валидационных данных: 0.8675\n",
      "F1-мера для KNN на валидационных данных: 0.9122315592903828\n"
     ]
    }
   ],
   "source": [
    "from sklearn.metrics import f1_score\n",
    "\n",
    "# Вычисление F1-меры для модели решающего дерева на валидационных данных\n",
    "tree_f1 = f1_score(Y_valid, tree_valid_pred, average='weighted')\n",
    "\n",
    "# Вычисление F1-меры для модели k-ближайших соседей на валидационных данных\n",
    "knn_f1 = f1_score(Y_valid, knn_valid_pred, average='weighted')\n",
    "\n",
    "print(\"F1-мера для решающего дерева на валидационных данных:\", tree_f1)\n",
    "print(\"F1-мера для KNN на валидационных данных:\", knn_f1)\n"
   ]
  },
  {
   "cell_type": "markdown",
   "id": "c8b99ecf",
   "metadata": {},
   "source": [
    "**Исходя из предоставленных метрик, модель k-ближайших соседей (KNN) в данном случае продемонстрировала более высокую производительность на валидационных данных по сравнению с моделью решающего дерева, особенно в отношении точности и F1-меры.**\n",
    "\n",
    "### ROC для модели дерева решений:"
   ]
  },
  {
   "cell_type": "code",
   "execution_count": 40,
   "id": "9949bd01",
   "metadata": {},
   "outputs": [
    {
     "data": {
      "image/png": "[encoded data removed]",
      "text/plain": [
       "<Figure size 800x600 with 1 Axes>"
      ]
     },
     "metadata": {},
     "output_type": "display_data"
    },
    {
     "name": "stdout",
     "output_type": "stream",
     "text": [
      "Average AUC-ROC: 0.98\n"
     ]
    }
   ],
   "source": [
    "from sklearn.metrics import roc_curve, roc_auc_score\n",
    "import matplotlib.pyplot as plt\n",
    "\n",
    "# Вероятности для модели дерева решений\n",
    "tree_probs = tree_grid.predict_proba(X_valid)\n",
    "\n",
    "# Рассчет ROC-кривых и AUC-ROC для каждого класса\n",
    "n_classes = len(tree_grid.classes_)\n",
    "fpr = dict()\n",
    "tpr = dict()\n",
    "roc_auc = dict()\n",
    "\n",
    "for i in range(n_classes):\n",
    "    fpr[i], tpr[i], _ = roc_curve(Y_valid == i, tree_probs[:, i])\n",
    "    roc_auc[i] = roc_auc_score((Y_valid == i).astype(int), tree_probs[:, i])\n",
    "\n",
    "# Вычисление средней AUC-ROC\n",
    "auc_tree = np.mean(list(roc_auc.values()))\n",
    "\n",
    "# Построение ROC-кривых для каждого класса\n",
    "plt.figure(figsize=(8, 6))\n",
    "for i in range(n_classes):\n",
    "    plt.plot(fpr[i], tpr[i], label=f'Class {i} (AUC = {roc_auc[i]:.2f})')\n",
    "\n",
    "# Добавление диагонали случайного классификатора (рандома)\n",
    "plt.plot([0, 1], [0, 1], linestyle='--', color='gray', label='Random')\n",
    "\n",
    "# Настройка внешнего вида графика\n",
    "plt.xlabel('False Positive Rate')\n",
    "plt.ylabel('True Positive Rate')\n",
    "plt.title('ROC Curve for Decision Tree')\n",
    "plt.legend()\n",
    "plt.show()\n",
    "\n",
    "print(f\"Average AUC-ROC: {auc_tree:.2f}\")\n"
   ]
  },
  {
   "cell_type": "markdown",
   "id": "c21c1372",
   "metadata": {},
   "source": [
    "### ROC для модели kNN:"
   ]
  },
  {
   "cell_type": "code",
   "execution_count": 41,
   "id": "3df1635c",
   "metadata": {},
   "outputs": [
    {
     "data": {
      "image/png": "[encoded data removed]",
      "text/plain": [
       "<Figure size 800x600 with 1 Axes>"
      ]
     },
     "metadata": {},
     "output_type": "display_data"
    },
    {
     "name": "stdout",
     "output_type": "stream",
     "text": [
      "Average AUC-ROC: 1.00\n"
     ]
    }
   ],
   "source": [
    "from sklearn.metrics import roc_curve, roc_auc_score\n",
    "import matplotlib.pyplot as plt\n",
    "\n",
    "# Вероятности для модели k-ближайших соседей (knn)\n",
    "knn_probs = knn_grid.predict_proba(X_valid)\n",
    "\n",
    "# Рассчет ROC-кривых и AUC-ROC для каждого класса\n",
    "n_classes = len(knn_grid.classes_)\n",
    "fpr = dict()\n",
    "tpr = dict()\n",
    "roc_auc = dict()\n",
    "\n",
    "for i in range(n_classes):\n",
    "    fpr[i], tpr[i], _ = roc_curve(Y_valid == i, knn_probs[:, i])\n",
    "    roc_auc[i] = roc_auc_score((Y_valid == i).astype(int), knn_probs[:, i])\n",
    "\n",
    "# Вычисление средней AUC-ROC\n",
    "auc_knn = np.mean(list(roc_auc.values()))\n",
    "\n",
    "# Построение ROC-кривых для каждого класса\n",
    "plt.figure(figsize=(8, 6))\n",
    "for i in range(n_classes):\n",
    "    plt.plot(fpr[i], tpr[i], label=f'Class {i} (AUC = {roc_auc[i]:.2f})')\n",
    "\n",
    "# Добавление диагонали случайного классификатора (рандома)\n",
    "plt.plot([0, 1], [0, 1], linestyle='--', color='gray', label='Random')\n",
    "\n",
    "# Настройка внешнего вида графика\n",
    "plt.xlabel('False Positive Rate')\n",
    "plt.ylabel('True Positive Rate')\n",
    "plt.title('ROC Curve for k-Nearest Neighbors (knn)')\n",
    "plt.legend()\n",
    "plt.show()\n",
    "\n",
    "print(f\"Average AUC-ROC: {auc_knn:.2f}\")\n"
   ]
  },
  {
   "cell_type": "markdown",
   "id": "c60e95e8",
   "metadata": {},
   "source": [
    "AUC-ROC (Area Under the Receiver Operating Characteristic Curve) представляет собой меру качества бинарной классификации на основе анализа ROC-кривой. AUC-ROC колеблется от 0 до 1, где 1 означает идеальное качество классификации, а 0.5 - случайное угадывание.\n",
    "\n",
    "В нашем случае результаты AUC-ROC для двух моделей (решающего дерева и k-ближайших соседей) высокие, что говорит о хорошем качестве моделей. Однако, результат AUC-ROC для k-ближайших соседей равен 1.00, что означает, что модель абсолютно идеально различает классы на валидационных данных.\n",
    "\n",
    "Сравнение результатов:\n",
    "\n",
    "Решающее дерево: Average AUC-ROC равен 0.98.\n",
    "k-ближайших соседей (knn): Average AUC-ROC равен 1.00.\n",
    "Эти значения указывают на отличное качество обеих моделей. Вероятно, k-ближайших соседей показывает немного лучшие результаты на основе AUC-ROC. "
   ]
  },
  {
   "cell_type": "markdown",
   "id": "19517b41",
   "metadata": {},
   "source": [
    "## Вывод:\n",
    "\n",
    "В рамках проведенной лабораторной работы были рассмотрены две модели машинного обучения: решающее дерево и метод k-ближайших соседей (KNN). Ниже представлен краткий вывод на основе полученных результатов:\n",
    "\n",
    "### **Точность (Precision):**\n",
    "\n",
    "* Решающее дерево: 0.9111\n",
    "* KNN: 0.9333\n",
    "Обе модели обладают высокой точностью, превышая 0.9, что указывает на способность моделей минимизировать количество ложноположительных предсказаний.\n",
    "\n",
    "### **Полнота (Recall):**\n",
    "\n",
    "* Решающее дерево: 0.8667\n",
    "* KNN: 0.9111\n",
    "Обе модели также демонстрируют высокую полноту, превышая 0.85. Это говорит о способности моделей успешно выявлять большую часть истинноположительных случаев.\n",
    "\n",
    "### **F1-мера:**\n",
    "\n",
    "* Решающее дерево: 0.8675\n",
    "* KNN: 0.9122\n",
    "F1-мера, объединяющая точность и полноту, также остается на высоком уровне для обеих моделей.\n",
    "\n",
    "### **AUC-ROC:**\n",
    "\n",
    "* Решающее дерево: 0.98\n",
    "* KNN: 1.00\n",
    "Значения AUC-ROC для обеих моделей свидетельствуют о высоком качестве их способности различать классы. Особенно впечатляющий результат получен для KNN с AUC-ROC, равным 1.00, что указывает на абсолютную дискриминирующую способность модели.\n",
    "\n",
    "### **На основе представленных метрик, таких как точность, полнота, F1-мера и AUC-ROC, модель k-ближайших соседей (KNN) показала лучшие результаты по сравнению с решающим деревом на валидационных данных.**\n",
    "\n",
    "1703"
   ]
  },
  {
   "cell_type": "code",
   "execution_count": null,
   "id": "9f9edb0f",
   "metadata": {},
   "outputs": [],
   "source": []
  }
 ],
 "metadata": {
  "kernelspec": {
   "display_name": "Python 3 (ipykernel)",
   "language": "python",
   "name": "python3"
  },
  "language_info": {
   "codemirror_mode": {
    "name": "ipython",
    "version": 3
   },
   "file_extension": ".py",
   "mimetype": "text/x-python",
   "name": "python",
   "nbconvert_exporter": "python",
   "pygments_lexer": "ipython3",
   "version": "3.11.5"
  }
 },
 "nbformat": 4,
 "nbformat_minor": 5
}
